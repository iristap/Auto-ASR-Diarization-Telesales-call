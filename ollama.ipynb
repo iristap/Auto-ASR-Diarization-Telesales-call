{
 "cells": [
  {
   "cell_type": "code",
   "execution_count": 3,
   "metadata": {},
   "outputs": [],
   "source": [
    "full_chat = \"\"\"**Telesales:** สวัสดีค่ะ ขอเรียนสายคุณโชคดีมีเงินค่ะ ดิฉันนางสาวขายดีทวีทรัพย์ติดต่อจากบริษัทคุ้มดีจำกัดในเครือธนาคาร Fin for you ทางบริษัทได้จัดทำโครงการพิเศษชื่อว่าคุ้มดีมีคืน สะดวกเรียนสายได้ซักครู่ไหมคะ\n",
    "\n",
    "**Customer:** สะดวกค่ะ\n",
    "\n",
    "**Telesales:** ขอบพระคุณค่ะ หนูขออนุญาตบันทึกสายสนทนานะคะ ดิฉัน นางสาวขายดีทวีทรัพย์ เลขที่ใบอนุญาตตัวแทน ตท.1902/2025 ค่ะ\n",
    "\n",
    "ทางโครงการขอเรียนเชิญคุณลูกค้าเข้าร่วมโครงการคุ้มดีมีคืนค่ะ ซึ่งเป็นโครงการออมทรัพย์พิเศษในรูปแบบการประกันชีวิตสะสมทรัพย์ ซึ่งผลประโยชน์ที่ลูกค้าจะได้รับแตกต่างจากที่อื่นๆ เพราะการันตีผลตอบแทนรวมตลอดสัญญาสูงสุดถึง 616 เปอร์เซ็นต์ของทุนประกันชีวิตเลยค่ะ โดยคุณลูกค้าไม่ต้องใช้เงินก้อนเป็นหมื่นเป็นแสนเลยนะคะ เพียงออมเงินทุกๆเดือนเท่าๆกัน ตัวอย่างเช่นคุณลูกค้าจ่ายเบี้ยเพียงวันละ 90 บาท หรือรายเดือนเดือนละ 2,700 บาท คุณลูกค้าจะได้เงินคืนทุกปีตั้งแต่ปีที่ 1 จนถึงปีที่ 14 การันตีรับเงินคืนปีละ 3,200 บาท 14 14 ปี เท่ากับได้ออมเพิ่ม เพิ่มขึ้น 44,800 บาท สิ้นสิ้นปีที่ 15-24 รับเงินการันตีเพิ่มขึ้นไปอีก เป็นปีละ 6,400 บาท รวม 10 ปีเป็นเงิน เป็นเงินเพิ่ม 64,000 บาทค่ะ และเมื่อสิ้นปีที่ 24 ที่ครบอายุสัญญา คุณลูกค้าจะได้เงินออม 384,000 บาท เมื่อรวมกับเงินคืนที่ได้ไปในปีที่ 1 ถึงปีที่ 24 แล้วเป็นเงิน 492,800 บาทเลยทีเดียวค่ะ ที่สำคัญ คุณลูกค้าออมเงินเพียงวันละ เพียงแค่ 14 ปีแรก แต่มีเงินเพิ่มทุกๆปีถึง 24 ปีเลยค่ะ นอกจากนี้ ลูกค้ายังสามารถนำยอดเบี้ยที่ชำระในปีที่ 14 ปีแรกไปลดหย่อนภาษีในแต่ละปีและยังได้รับความคุ้มครองกรณีลูกค้าสูญเสียชีวิตระหว่างปีที่ 24 นี้ในวงเงินที่สูงถึง 384,000 บาท ตั้งแต่วันที่คุณลูกค้าได้รับการอนุมัติกรมธรรม์ให้อีกด้วย ซึ่งเงินก้อนนี้สามารถส่งต่อเป็นมรดกให้ลูกหลานหรือพ่อแม่ได้ค่ะ โดยคุ้มครองทุกกรณีของการเสียชีวิต ยกเว้นการฆ่าตัวตายปีแรกหรือถูกผู้รับผลประโยชน์ฆาตกรรมค่ะ โครงการนี้เป็นประกันชีวิตแบบสะสมทรัพย์ ที่ลูกค้าได้รับผลตอบแทนครบทุกด้าน ทั้งผลตอบแทนในรูปแบบเงินคืนการันตีทุกปี 24 ปี ความคุ้มครองชีวิตและประโยชน์ในการลดหย่อนภาษี เราจึงจัดทำโครงการนี้เป็นพิเศษไม่เหมือนใครเพื่อคุณลูกค้าโดยเฉพาะเลยค่ะ คุณลูกค้า สนใจเข้าร่วมโครงการหรือไม่คะ\n",
    "\n",
    "**Customer:** แล้ว แล้วมันเอาไปลงทุน ทุนยังไงอ่ะคะ แล้วมีความเสี่ยงไหมคะ\n",
    "\n",
    "**Telesales:** ขายดีขอแจ้งคุณลูกค้าแบบนี้นะค่ะ โครงการนี้ไม่ได้เป็นการลงทุนค่ะคุณลูกค้า แต่เป็นการออมเงินและได้สิทธิประโยชน์ในการคุ้มครองชีวิตไปด้วย ซึ่งต่างจากการนำเงินไปลงทุนในหุ้นหรือตลาดทุนที่คุณลูกค้าอาจจะเสี่ยงที่จะขาดทุนหรือสูญเสียเงินจากการลงทุนได้ค่ะ\n",
    "\n",
    "**Customer:** อ๋อๆ เข้าใจแล้วค่ะ\n",
    "\n",
    "**Telesales:** คุณลูกค้ายืนยัน เข้า ร่วมโครงการนะคะ ขายดีขอทวนชื่อคุณลูกค้า เป็นคุณโชคดีมีเงินอยู่บ้านเลขที่ 69/96 หมู่บ้านโชคดีทวีสุข ถนนรัชดาภิเษก แขวงดินแดง เขตดินแดง กรุงเทพ 10310 ถูกต้องไหมคะ\n",
    "\n",
    "**Customer:** ถูกต้องค่ะ\n",
    "\n",
    "**Telesales:** ขอบคุณค่ะคุณลูกค้า ภายใน 15 วันทำการทางบริษัทจะส่งเอกสารรายละเอียดการออมให้ ให้เป็นให้เก็บไว้เป็นหลักฐาน โดยเป็นกรมธรรม์ฉบับสะสมทรัพย์ ออมเพิ่มสุข ที่จะระบุผลตอบแทนแบบการันตีทุกๆตัวเลขตามที่เจ้าหน้าที่แจ้งทั้งหมด จัดส่งตามที่ ที่อยู่ที่ระบุไว้เลยไหมคะคุณลูกค้า\n",
    "\n",
    "**Customer:** ได้เลยค่ะ\n",
    "\n",
    "**Telesales:** ขอบคุณค่ะคุณลูกค้า ขายดีขอขอบพระคุณคุณลูกค้าเป็นอย่างสูง และขอให้คุณลูกค้ามีสุขภาพแข็งแรงตลอดปี 2525 นะคะ สวัสดีค่ะ\n",
    "\n",
    "**Customer:** สวัสดีค่ะ\"\"\""
   ]
  },
  {
   "cell_type": "code",
   "execution_count": 7,
   "metadata": {},
   "outputs": [],
   "source": [
    "from langchain_ollama import ChatOllama\n",
    "from langchain_core.prompts import PromptTemplate\n",
    "\n",
    "llm = ChatOllama(model=\"llama3.2:3b\", temperature=0)\n",
    "\n",
    "\n",
    "# สร้าง prompt สำหรับการสรุปบทสนทนา\n",
    "prompt_template = PromptTemplate(\n",
    "    template=\"you are a Telesales write summary from call log in thai:\\n{chat}\\n:\",\n",
    "    input_variables=[\"chat\"]\n",
    ")\n",
    "prompt = prompt_template.format(chat=full_chat)\n",
    "\n",
    "# เรียกใช้งาน ChatOllama เพื่อสรุปบทสนทนา\n",
    "summary = llm.invoke(prompt)\n"
   ]
  },
  {
   "cell_type": "code",
   "execution_count": 8,
   "metadata": {},
   "outputs": [
    {
     "name": "stdout",
     "output_type": "stream",
     "text": [
      "เรื่องราวของการโทรขายที่มีผลลัพธ์เป็นบวก:\n",
      "\n",
      "นางสาวขายดีทวีทรัพย์ ติดต่อจากบริษัทคุ้มดีจำกัดในเครือธนาคาร Fin for you เพื่อแนะนำโครงการ \"คุ้มดีมีคืน\" ซึ่งเป็นโครงการพิเศษสำหรับการประกันชีวิตสะสมทรัพย์\n",
      "\n",
      "นางสาวขายดีทวีทรัพย์ แจ้งให้ลูกค้าทราบถึงประโยชน์ของโครงการ เช่น การได้รับเงินคืนทุกปีตั้งแต่ปีที่ 1 จนถึงปีที่ 14 และการันตีรับเงินคืนปีละ 3,200 บาท ในปีที่ 15-24 รวมเป็นเงินเพิ่ม 64,000 บาท และเมื่อสิ้นปีที่ 24 ที่ครบอายุสัญญา ลูกค้าจะได้เงินออม 384,000 บาท\n",
      "\n",
      "ลูกค้าแสดงความสนใจในการเข้าร่วมโครงการและถามเกี่ยวกับวิธีการลงทุนและความเสี่ยงของโครงการ นางสาวขายดีทวีทรัพย์ แจ้งให้ลูกค้าทราบว่าโครงการไม่ใช่การลงทุน แต่เป็นการออมเงินและได้สิทธิประโยชน์ในการคุ้มครองชีวิต\n",
      "\n",
      "หลังจากที่ลูกค้ายืนยันเข้าร่วมโครงการ นางสาวขายดีทวีทรัพย์ ขอให้ลูกค้าตรวจสอบข้อมูลและรับเอกสารรายละเอียดการออมภายใน 15 วันทำการ\n"
     ]
    }
   ],
   "source": [
    "print(summary.content)"
   ]
  },
  {
   "cell_type": "code",
   "execution_count": 6,
   "metadata": {},
   "outputs": [
    {
     "name": "stdout",
     "output_type": "stream",
     "text": [
      "Here is a summary of the telesales call:\n",
      "\n",
      "A telesales representative from \"บริษัทคุ้มดีจำกัด\" (Fin for You) contacted a customer, Mrs. [Name], at her home address (69/96 หมู่บ้านโชคดีทวีสุข ถนนรัชดาภิเษก แขวงดินแดง เขตดินแดง กรุงเทพ 10310). The representative introduced herself as \"นางสาวขายดีทวีทรัพย์\" and informed Mrs. [Name] about a special project called \"คุ้มดีมีคืน\" (meaning \"Save and Get Back\").\n",
      "\n",
      "The project is an insurance plan that allows customers to save money while receiving guaranteed returns over 24 years, with a maximum return of 616% of the premium paid. The representative explained that the customer can start saving as little as 90 baht per day or 2,700 baht per month and will receive a guaranteed return every year.\n",
      "\n",
      "The representative also mentioned that the project comes with additional benefits, such as tax deductions and protection against death during the term of the policy. She assured Mrs. [Name] that this is not an investment opportunity, but rather a way to save money while receiving guaranteed returns.\n",
      "\n",
      "Mrs. [Name] expressed interest in joining the project, and the representative confirmed her details and informed her that she would receive a detailed document with all the information about the project within 15 days. The representative also wished Mrs. [Name] good health and thanked her for her time.\n"
     ]
    }
   ],
   "source": [
    "print(summary.content)"
   ]
  },
  {
   "cell_type": "code",
   "execution_count": 6,
   "metadata": {},
   "outputs": [],
   "source": [
    "from langchain_ollama import ChatOllama\n",
    "from langchain_core.prompts import PromptTemplate \n",
    "\n",
    "llm = ChatOllama(model=\"llama3.2:3b\", temperature=0)\n",
    "prompt_template = PromptTemplate(\n",
    "    template=\"เขียนสรุปรายละเอียดของ Product จาก Chat log:\\n{chat}\\n:\",\n",
    "    input_variables=[\"chat\"]\n",
    ")\n",
    "prompt = prompt_template.format(chat=full_chat)\n",
    "\n",
    "# เรียกใช้งาน ChatOllama เพื่อสรุปบทสนทนา\n",
    "summary = llm.invoke(prompt)"
   ]
  },
  {
   "cell_type": "code",
   "execution_count": 7,
   "metadata": {},
   "outputs": [
    {
     "name": "stdout",
     "output_type": "stream",
     "text": [
      "สรุปรายละเอียดของ Product จาก Chat log:\n",
      "\n",
      "1. ชื่อโครงการ: คุ้มดีมีคืน\n",
      "2. ประเภทโครงการ: โครงการออมทรัพย์พิเศษในรูปแบบการประกันชีวิตสะสมทรัพย์\n",
      "3. ผลประโยชน์ที่ลูกค้าจะได้รับ:\n",
      " * เงินคืนทุกปีตั้งแต่ปีที่ 1 จนถึงปีที่ 14\n",
      " * การันตีรับเงินคืนปีละ 3,200 บาท 14 ปี\n",
      " * ออมเพิ่ม 44,800 บาทในช่วงปีที่ 15-24\n",
      " * เงินออม 384,000 บาทเมื่อสิ้นปีที่ 24\n",
      "4. ความคุ้มครองทุกกรณีของการเสียชีวิต ยกเว้นการฆ่าตัวตายปีแรกหรือถูกผู้รับผลประโยชน์ฆาตกรรม\n",
      "5. ไม่ใช่การลงทุน แต่เป็นการออมเงินและได้สิทธิประโยชน์ในการคุ้มครองชีวิต\n",
      "6. ทุนประกันชีวิตจะถูกนำไปใช้เพื่อการันตีผลตอบแทน\n",
      "7. ลูกค้าสามารถนำยอดเบี้ยที่ชำระในปีที่ 14 ปีแรกไปลดหย่อนภาษีในแต่ละปี\n",
      "8. โครงการนี้เป็นประกันชีวิตแบบสะสมทรัพย์ที่ลูกค้าได้รับผลตอบแทนครบทุกด้าน\n"
     ]
    }
   ],
   "source": [
    "print(summary.content)"
   ]
  }
 ],
 "metadata": {
  "kernelspec": {
   "display_name": "elasticsearch",
   "language": "python",
   "name": "python3"
  },
  "language_info": {
   "codemirror_mode": {
    "name": "ipython",
    "version": 3
   },
   "file_extension": ".py",
   "mimetype": "text/x-python",
   "name": "python",
   "nbconvert_exporter": "python",
   "pygments_lexer": "ipython3",
   "version": "3.12.7"
  }
 },
 "nbformat": 4,
 "nbformat_minor": 2
}
