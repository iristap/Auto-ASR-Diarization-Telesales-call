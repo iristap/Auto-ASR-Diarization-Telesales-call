{
 "cells": [
  {
   "cell_type": "markdown",
   "metadata": {},
   "source": [
    "# Set up"
   ]
  },
  {
   "cell_type": "code",
   "execution_count": 1,
   "metadata": {},
   "outputs": [],
   "source": [
    "import os\n",
    "from google import genai\n",
    "from google.genai import types\n",
    "from dotenv import load_dotenv\n",
    "load_dotenv()\n",
    "client = genai.Client(api_key=os.getenv(\"GEMINI_API_KEY\"))"
   ]
  },
  {
   "cell_type": "code",
   "execution_count": 48,
   "metadata": {},
   "outputs": [],
   "source": [
    "client = genai.Client(api_key=os.getenv(\"GEMINI_API_KEY\"))\n",
    "myfile = client.files.upload(file='Telesales.mp3')"
   ]
  },
  {
   "cell_type": "markdown",
   "metadata": {},
   "source": [
    "# Describe Audio direct"
   ]
  },
  {
   "cell_type": "code",
   "execution_count": 30,
   "metadata": {},
   "outputs": [
    {
     "name": "stdout",
     "output_type": "stream",
     "text": [
      "แน่นอนค่ะ นี่คือคำอธิบายเสียงในภาษาไทย พร้อมกับการเปรียบเทียบระหว่าง Telesales กับลูกค้า:\n",
      "\n",
      "**คำอธิบายเสียง:**\n",
      "คลิปเสียงนี้เป็นการสนทนาระหว่างพนักงานขายทางโทรศัพท์ (Telesales) และลูกค้า บทสนทนาเริ่มต้นด้วยการแนะนำตัวของพนักงานขายจากบริษัทประกันชีวิต และการเสนอโครงการพิเศษชื่อ \"คุ้มดีมีคืน\" ซึ่งเป็นแผนออมทรัพย์ในรูปแบบประกันชีวิตสะสมทรัพย์ พนักงานขายอธิบายรายละเอียดผลประโยชน์และข้อดีต่างๆ ของโครงการ รวมถึงผลตอบแทนที่ลูกค้าจะได้รับ และการลดหย่อนภาษี ลูกค้าแสดงความสนใจและสอบถามเกี่ยวกับความเสี่ยงในการลงทุน พนักงานขายอธิบายว่าไม่ใช่การลงทุน แต่เป็นการออมเงินที่มาพร้อมความคุ้มครองชีวิต จากนั้นลูกค้าตกลงเข้าร่วมโครงการ และพนักงานขายยืนยันข้อมูลส่วนตัวของลูกค้า รวมถึงแจ้งรายละเอียดการจัดส่งเอกสาร\n",
      "\n",
      "**การเปรียบเทียบ Telesales กับลูกค้า:**\n",
      "*   **Telesales:**\n",
      "    *   พูดจาสุภาพ อ่อนน้อม และเป็นกันเอง\n",
      "    *   มีน้ำเสียงที่ชัดเจน มั่นใจ และน่าเชื่อถือ\n",
      "    *   มีความรู้และความเข้าใจในผลิตภัณฑ์อย่างละเอียด\n",
      "    *   สามารถอธิบายรายละเอียดต่างๆ ได้อย่างชัดเจนและเข้าใจง่าย\n",
      "    *   สามารถตอบคำถามและข้อสงสัยของลูกค้าได้อย่างรวดเร็วและแม่นยำ\n",
      "    *   มีทักษะในการโน้มน้าวใจและปิดการขาย\n",
      "*   **ลูกค้า:**\n",
      "    *   สุภาพและให้ความร่วมมือ\n",
      "    *   แสดงความสนใจในผลิตภัณฑ์ แต่ก็มีความสงสัยและข้อกังวล\n",
      "    *   สอบถามข้อมูลเพิ่มเติมเพื่อทำความเข้าใจผลิตภัณฑ์ให้มากขึ้น\n",
      "    *   ตัดสินใจเข้าร่วมโครงการหลังจากได้รับข้อมูลที่ชัดเจนและน่าพอใจ\n",
      "\n",
      "หวังว่าคำอธิบายนี้จะเป็นประโยชน์นะคะ\n"
     ]
    }
   ],
   "source": [
    "response = client.models.generate_content(\n",
    "  model='gemini-2.0-flash',\n",
    "  contents=[\n",
    "    'Describe this audio clip in Thai and differentiate between the Telesales and the Customer.',\n",
    "    myfile,\n",
    "  ]\n",
    ")\n",
    "\n",
    "print(response.text)"
   ]
  },
  {
   "cell_type": "markdown",
   "metadata": {},
   "source": [
    "# Transcribe audio"
   ]
  },
  {
   "cell_type": "code",
   "execution_count": null,
   "metadata": {},
   "outputs": [],
   "source": [
    "response = client.models.generate_content(\n",
    "  model='gemini-2.0-flash',\n",
    "  contents=[\n",
    "    'Transcribe this audio clip in Thai and differentiate between the Telesales and the Customer.',\n",
    "    myfile,\n",
    "  ]\n",
    ")\n",
    "\n",
    "print(response.text)"
   ]
  },
  {
   "cell_type": "markdown",
   "metadata": {},
   "source": [
    "# QA feature"
   ]
  },
  {
   "cell_type": "code",
   "execution_count": 4,
   "metadata": {},
   "outputs": [],
   "source": [
    "from typing import List, Dict, Any, Union, Optional, Tuple, Literal\n",
    "from pydantic import BaseModel, Field"
   ]
  },
  {
   "cell_type": "code",
   "execution_count": 25,
   "metadata": {},
   "outputs": [],
   "source": [
    "from pydantic import BaseModel, Field\n",
    "from typing import List, Literal\n",
    "\n",
    "class Introduction(BaseModel):\n",
    "    greeting: str = Field(description='Greeting of the person in the conversation')\n",
    "    name: str = Field(description='Name of the person in the conversation')\n",
    "    company_affiliation: str = Field(description='Company affiliation of the telesales in the conversation')\n",
    "    license_number: str = Field(description='License number of the telesales in the conversation')  \n",
    "    permission_record_audio: bool = Field(description='Permission to record the audio of the conversation')\n",
    "\n",
    "class Person(BaseModel):\n",
    "    position: Literal['Telesales', 'Customer'] = Field(description='Position of the person in the conversation')\n",
    "    name: str = Field(description='Name of the person in the conversation')\n",
    "    mannered_voice_tone: str = Field(description='Mannered voice tone of the person in the conversation')  \n",
    "\n",
    "class RegulatoryCompliance(BaseModel):\n",
    "    proper_introduction: Introduction = Field(description='Proper introduction of the telesales in the conversation') \n",
    "    # mannered_voice_tone: List[Person] = Field(description='Mannered voice tone of the people in the conversation')  \n",
    "    # prohibited_words: List[str] = Field(description=\"\"\"Prohibited phrases or words in the conversation (in Thai) (only explicit words) topics:)\n",
    "    #                                     การให้คำมั่นสัญญาที่เกินจริง\n",
    "    #                                     คำที่สร้างความเข้าใจผิดหรือชี้นำผิด\n",
    "    #                                     การอ้างหน่วยงานหรือบุคคล\n",
    "    #                                     การใช้คำที่กดดัน\n",
    "    #                                     วลีที่ละเมิดสิทธิส่วนบุคคลหรือข้อมูลส่วนบุคคล\"\"\")\n",
    "\n",
    "class checkprohibited_words(BaseModel):\n",
    "    prohibited_words: List[str] = Field(description=\"\"\"Prohibited phrases or words in the conversation (in Thai) (only explicit words) topics:\n",
    "                                        คำหยาบคาย หรือคำที่เกี่ยวข้องกับเรื่องทางเพศ\n",
    "                                        การให้คำมั่นสัญญาที่เกินจริง \"ไม่เสี่ยงแน่นอน\"\n",
    "                                        การอ้างหน่วยงานหรือบุคคล\n",
    "                                        การใช้คำที่กดดัน\n",
    "                                        วลีที่ละเมิดสิทธิส่วนบุคคลหรือข้อมูลส่วนบุคคล\"\"\")\n",
    "\n"
   ]
  },
  {
   "cell_type": "code",
   "execution_count": 16,
   "metadata": {},
   "outputs": [],
   "source": [
    "call_chat = \"\"\"\"**Telesales:** สวัสดีค่ะ ขอเรียนสายคุณโชคดีมีเงินค่ะ ดิฉันนางสาวขายดีทวีทรัพย์ติดต่อจากบริษัทคุ้มดีจำกัดในเครือธนาคาร Fin for you ทางบริษัทได้จัดทำโครงการพิเศษชื่อว่าคุ้มดีมีคืน สะดวกเรียนสายได้ซักครู่ไหมคะ\n",
    "\n",
    "**Customer:** สะดวกค่ะ\n",
    "\n",
    "**Telesales:** ขอบพระคุณค่ะ หนูขออนุญาตบันทึกสายสนทนานะคะ ดิฉัน นางสาวขายดีทวีทรัพย์ เลขที่ใบอนุญาตตัวแทน ตท.1902/2025 ค่ะ\n",
    "\n",
    "ทางโครงการขอเรียนเชิญคุณลูกค้าเข้าร่วมโครงการคุ้มดีมีคืนค่ะ ซึ่งเป็นโครงการออมทรัพย์พิเศษในรูปแบบการประกันชีวิตสะสมทรัพย์ ซึ่งผลประโยชน์ที่ลูกค้าจะได้รับแตกต่างจากที่อื่นๆ เพราะการันตีผลตอบแทนรวมตลอดสัญญาสูงสุดถึง 616 เปอร์เซ็นต์ของทุนประกันชีวิตเลยค่ะ โดยคุณลูกค้าไม่ต้องใช้เงินก้อนเป็นหมื่นเป็นแสนเลยนะคะ เพียงออมเงินทุกๆเดือนเท่าๆกัน ตัวอย่างเช่นคุณลูกค้าจ่ายเบี้ยเพียงวันละ 90 บาท หรือรายเดือนเดือนละ 2,700 บาท คุณลูกค้าจะได้เงินคืนทุกปีตั้งแต่ปีที่ 1 จนถึงปีที่ 14 การันตีรับเงินคืนปีละ 3,200 บาท 14 14 ปี เท่ากับได้ออมเพิ่ม เพิ่มขึ้น 44,800 บาท สิ้นสิ้นปีที่ 15-24 รับเงินการันตีเพิ่มขึ้นไปอีก เป็นปีละ 6,400 บาท รวม 10 ปีเป็นเงิน เป็นเงินเพิ่ม 64,000 บาทค่ะ และเมื่อสิ้นปีที่ 24 ที่ครบอายุสัญญา คุณลูกค้าจะได้เงินออม 384,000 บาท เมื่อรวมกับเงินคืนที่ได้ไปในปีที่ 1 ถึงปีที่ 24 แล้วเป็นเงิน 492,800 บาทเลยทีเดียวค่ะ ที่สำคัญ คุณลูกค้าออมเงินเพียงวันละ เพียงแค่ 14 ปีแรก แต่มีเงินเพิ่มทุกๆปีถึง 24 ปีเลยค่ะ นอกจากนี้ ลูกค้ายังสามารถนำยอดเบี้ยที่ชำระในปีที่ 14 ปีแรกไปลดหย่อนภาษีในแต่ละปีและยังได้รับความคุ้มครองกรณีลูกค้าสูญเสียชีวิตระหว่างปีที่ 24 นี้ในวงเงินที่สูงถึง 384,000 บาท ตั้งแต่วันที่คุณลูกค้าได้รับการอนุมัติกรมธรรม์ให้อีกด้วย ซึ่งเงินก้อนนี้สามารถส่งต่อเป็นมรดกให้ลูกหลานหรือพ่อแม่ได้ค่ะ โดยคุ้มครองทุกกรณีของการเสียชีวิต ยกเว้นการฆ่าตัวตายปีแรกหรือถูกผู้รับผลประโยชน์ฆาตกรรมค่ะ โครงการนี้เป็นประกันชีวิตแบบสะสมทรัพย์ ที่ลูกค้าได้รับผลตอบแทนครบทุกด้าน ทั้งผลตอบแทนในรูปแบบเงินคืนการันตีทุกปี 24 ปี ความคุ้มครองชีวิตและประโยชน์ในการลดหย่อนภาษี เราจึงจัดทำโครงการนี้เป็นพิเศษไม่เหมือนใครเพื่อคุณลูกค้าโดยเฉพาะเลยค่ะ คุณลูกค้า สนใจเข้าร่วมโครงการหรือไม่คะ\n",
    "\n",
    "**Customer:** แล้ว แล้วมันเอาไปลงทุน ทุนยังไงอ่ะคะ แล้วมีความเสี่ยงไหมคะ\n",
    "\n",
    "**Telesales:** ขายดีขอแจ้งคุณลูกค้าแบบนี้นะค่ะ โครงการนี้ไม่ได้เป็นการลงทุนค่ะคุณลูกค้า แต่เป็นการออมเงินและได้สิทธิประโยชน์ในการคุ้มครองชีวิตไปด้วย ซึ่งต่างจากการนำเงินไปลงทุนในหุ้นหรือตลาดทุนที่คุณลูกค้าอาจจะเสี่ยงที่จะขาดทุนหรือสูญเสียเงินจากการลงทุนได้ค่ะ\n",
    "\n",
    "**Customer:** อ๋อๆ เข้าใจแล้วค่ะ\n",
    "\n",
    "**Telesales:** คุณลูกค้ายืนยัน เข้า ร่วมโครงการนะคะ ขายดีขอทวนชื่อคุณลูกค้า เป็นคุณโชคดีมีเงินอยู่บ้านเลขที่ 69/96 หมู่บ้านโชคดีทวีสุข ถนนรัชดาภิเษก แขวงดินแดง เขตดินแดง กรุงเทพ 10310 ถูกต้องไหมคะ\n",
    "\n",
    "**Customer:** ถูกต้องค่ะ\n",
    "\n",
    "**Telesales:** ขอบคุณค่ะคุณลูกค้า ภายใน 15 วันทำการทางบริษัทจะส่งเอกสารรายละเอียดการออมให้ ให้เป็นให้เก็บไว้เป็นหลักฐาน โดยเป็นกรมธรรม์ฉบับสะสมทรัพย์ ออมเพิ่มสุข ที่จะระบุผลตอบแทนแบบการันตีทุกๆตัวเลขตามที่เจ้าหน้าที่แจ้งทั้งหมด จัดส่งตามที่ ที่อยู่ที่ระบุไว้เลยไหมคะคุณลูกค้า\n",
    "\n",
    "**Customer:** ได้เลยค่ะ\n",
    "\n",
    "**Telesales:** ขอบคุณค่ะคุณลูกค้า ขายดีขอขอบพระคุณคุณลูกค้าเป็นอย่างสูง และขอให้คุณลูกค้ามีสุขภาพแข็งแรงตลอดปี 2525 นะคะ สวัสดีค่ะ\n",
    "\n",
    "**Customer:** สวัสดีค่ะ\"\"\""
   ]
  },
  {
   "cell_type": "code",
   "execution_count": null,
   "metadata": {},
   "outputs": [],
   "source": [
    "import json\n",
    "from langchain_google_genai import ChatGoogleGenerativeAI\n",
    "from langchain_core.prompts import PromptTemplate\n",
    "from langchain_core.output_parsers import PydanticOutputParser\n",
    "from pydantic import BaseModel, Field\n",
    "from typing import List, Literal\n",
    "\n",
    "llm = ChatGoogleGenerativeAI(model=\"gemini-2.0-flash\", temperature=0 ,api_key=os.getenv(\"GEMINI_API_KEY\"))\n",
    "\n",
    "\n",
    "parser = PydanticOutputParser(pydantic_object=RegulatoryCompliance)\n",
    "\n",
    "\n",
    "prompt = PromptTemplate(\n",
    "    template=\"\"\"\n",
    "    คุณเป็นระบบตรวจสอบคุณภาพของสายโทรศัพท์\n",
    "    ต่อไปนี้คือบทสนทนา:\n",
    "    ```text\n",
    "    {conversation}\n",
    "    ```\n",
    "    โปรดวิเคราะห์และสรุปข้อมูลตามโครงสร้าง JSON ด้านล่าง:\n",
    "    {format_instructions}\n",
    "    \"\"\",\n",
    "    input_variables=[\"conversation\"],\n",
    "    partial_variables={\"format_instructions\": parser.get_format_instructions()},\n",
    ")\n",
    "\n",
    "chain = prompt | llm | parser\n",
    "structured_output = chain.invoke({\"conversation\": call_chat})\n",
    "\n"
   ]
  },
  {
   "cell_type": "code",
   "execution_count": 13,
   "metadata": {},
   "outputs": [
    {
     "name": "stderr",
     "output_type": "stream",
     "text": [
      "C:\\Users\\sirip\\AppData\\Local\\Temp\\ipykernel_30504\\656136847.py:1: PydanticDeprecatedSince20: The `dict` method is deprecated; use `model_dump` instead. Deprecated in Pydantic V2.0 to be removed in V3.0. See Pydantic V2 Migration Guide at https://errors.pydantic.dev/2.10/migration/\n",
      "  structured_output.dict()\n"
     ]
    },
    {
     "data": {
      "text/plain": [
       "{'proper_introduction': {'greeting': 'สวัสดีค่ะ ขอเรียนสายคุณโชคดีมีเงินค่ะ',\n",
       "  'name': 'นางสาวขายดีทวีทรัพย์',\n",
       "  'company_affiliation': 'บริษัทคุ้มดีจำกัดในเครือธนาคาร Fin for you',\n",
       "  'license_number': 'ตท.1902/2025',\n",
       "  'permission_record_audio': True}}"
      ]
     },
     "execution_count": 13,
     "metadata": {},
     "output_type": "execute_result"
    }
   ],
   "source": [
    "structured_output.dict()"
   ]
  },
  {
   "cell_type": "code",
   "execution_count": 26,
   "metadata": {},
   "outputs": [],
   "source": [
    "paser_prohibited_words = PydanticOutputParser(pydantic_object=checkprohibited_words)\n",
    "\n",
    "prompt = PromptTemplate(\n",
    "    template=\"\"\"\n",
    "    คุณเป็นระบบตรวจสอบคุณภาพของสายโทรศัพท์\n",
    "    ต่อไปนี้คือบทสนทนา:\n",
    "    ```text\n",
    "    {conversation}\n",
    "    ```\n",
    "    โปรดวิเคราะห์และสรุปข้อมูลตามโครงสร้าง JSON ด้านล่าง:\n",
    "    {format_instructions}\n",
    "    \"\"\",\n",
    "    input_variables=[\"conversation\"],\n",
    "    partial_variables={\"format_instructions\": paser_prohibited_words.get_format_instructions()},\n",
    ")\n",
    "\n",
    "chain = prompt | llm | paser_prohibited_words\n",
    "structured_output = chain.invoke({\"conversation\": call_chat})"
   ]
  },
  {
   "cell_type": "code",
   "execution_count": 27,
   "metadata": {},
   "outputs": [
    {
     "name": "stderr",
     "output_type": "stream",
     "text": [
      "C:\\Users\\sirip\\AppData\\Local\\Temp\\ipykernel_30504\\656136847.py:1: PydanticDeprecatedSince20: The `dict` method is deprecated; use `model_dump` instead. Deprecated in Pydantic V2.0 to be removed in V3.0. See Pydantic V2 Migration Guide at https://errors.pydantic.dev/2.10/migration/\n",
      "  structured_output.dict()\n"
     ]
    },
    {
     "data": {
      "text/plain": [
       "{'prohibited_words': []}"
      ]
     },
     "execution_count": 27,
     "metadata": {},
     "output_type": "execute_result"
    }
   ],
   "source": [
    "structured_output.dict()"
   ]
  },
  {
   "cell_type": "markdown",
   "metadata": {},
   "source": [
    "# Describe from Transcribe"
   ]
  },
  {
   "cell_type": "code",
   "execution_count": null,
   "metadata": {},
   "outputs": [],
   "source": [
    "import os\n",
    "from langchain_google_genai import ChatGoogleGenerativeAI\n",
    "from langchain_core.prompts import PromptTemplate\n",
    "from langchain_core.output_parsers import PydanticOutputParser\n",
    "\n",
    "llm = ChatGoogleGenerativeAI(model=\"gemini-2.0-flash\", temperature=0, api_key=os.getenv(\"GEMINI_API_KEY\"))\n",
    "\n",
    "prompt = PromptTemplate(\n",
    "    template=\"\"\"\n",
    "You are an AI assistant that helps summarize product features from conversations. in thai.\n",
    "Here is a conversation about the product:\n",
    "```text\n",
    "{conversation}\n",
    "```\n",
    "\"\"\",\n",
    ")\n",
    "\n",
    "chain = prompt | llm \n"
   ]
  },
  {
   "cell_type": "code",
   "execution_count": null,
   "metadata": {},
   "outputs": [],
   "source": [
    "structured_output = chain.invoke({\"conversation\": call_chat})"
   ]
  },
  {
   "cell_type": "code",
   "execution_count": 47,
   "metadata": {},
   "outputs": [
    {
     "name": "stdout",
     "output_type": "stream",
     "text": [
      "สรุปคุณสมบัติของผลิตภัณฑ์ \"คุ้มดีมีคืน\" จากบทสนทนา:\n",
      "\n",
      "*   **ประเภทผลิตภัณฑ์:** ประกันชีวิตสะสมทรัพย์ ไม่ใช่การลงทุน\n",
      "*   **ผลตอบแทน:** การันตีผลตอบแทนรวมสูงสุด 616% ของทุนประกันชีวิต\n",
      "*   **การออม:** ออมเงินรายเดือน (ตัวอย่าง: วันละ 90 บาท หรือเดือนละ 2,700 บาท)\n",
      "*   **เงินคืน:**\n",
      "    *   ปีที่ 1-14: รับเงินคืนปีละ 3,200 บาท\n",
      "    *   ปีที่ 15-24: รับเงินคืนปีละ 6,400 บาท\n",
      "    *   สิ้นปีที่ 24 (ครบอายุสัญญา): ได้รับเงินออม 384,000 บาท\n",
      "    *   รวมเงินคืนตลอดสัญญา: 492,800 บาท\n",
      "*   **ระยะเวลาการออม:** ออม 14 ปี แต่ได้รับเงินคืน 24 ปี\n",
      "*   **ความคุ้มครองชีวิต:** คุ้มครองกรณีเสียชีวิต (ยกเว้นฆ่าตัวตายปีแรกหรือถูกผู้รับผลประโยชน์ฆาตกรรม) วงเงิน 384,000 บาท\n",
      "*   **ประโยชน์ทางภาษี:** สามารถนำเบี้ยประกันที่ชำระในช่วง 14 ปีแรกไปลดหย่อนภาษีได้\n",
      "*   **มรดก:** เงินก้อนสามารถส่งต่อเป็นมรดกให้ลูกหลานหรือพ่อแม่ได้\n",
      "*   **เอกสาร:** บริษัทจะส่งเอกสารรายละเอียดกรมธรรม์ฉบับสะสมทรัพย์ \"ออมเพิ่มสุข\" ภายใน 15 วันทำการ\n"
     ]
    }
   ],
   "source": [
    "print(structured_output.content)"
   ]
  },
  {
   "cell_type": "code",
   "execution_count": null,
   "metadata": {},
   "outputs": [],
   "source": []
  }
 ],
 "metadata": {
  "kernelspec": {
   "display_name": "elasticsearch",
   "language": "python",
   "name": "python3"
  },
  "language_info": {
   "codemirror_mode": {
    "name": "ipython",
    "version": 3
   },
   "file_extension": ".py",
   "mimetype": "text/x-python",
   "name": "python",
   "nbconvert_exporter": "python",
   "pygments_lexer": "ipython3",
   "version": "3.12.7"
  }
 },
 "nbformat": 4,
 "nbformat_minor": 2
}
